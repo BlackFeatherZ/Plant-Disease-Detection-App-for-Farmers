{
 "cells": [
  {
   "cell_type": "markdown",
   "metadata": {
    "slideshow": {
     "slide_type": "slide"
    }
   },
   "source": [
    "# Inception"
   ]
  },
  {
   "cell_type": "markdown",
   "metadata": {},
   "source": []
  },
  {
   "cell_type": "code",
   "execution_count": 1,
   "metadata": {
    "execution": {
     "iopub.execute_input": "2022-12-12T18:18:04.683747Z",
     "iopub.status.busy": "2022-12-12T18:18:04.682933Z",
     "iopub.status.idle": "2022-12-12T18:18:07.655069Z",
     "shell.execute_reply": "2022-12-12T18:18:07.654172Z",
     "shell.execute_reply.started": "2022-12-12T18:18:04.683656Z"
    }
   },
   "outputs": [],
   "source": [
    "import mxnet as mx\n",
    "import sys\n",
    "import time\n",
    "from mxnet import autograd, gluon, init, nd\n",
    "from mxnet.gluon import loss as gloss, nn"
   ]
  },
  {
   "cell_type": "code",
   "execution_count": 2,
   "metadata": {
    "attributes": {
     "classes": [],
     "id": "",
     "n": "1"
    },
    "execution": {
     "iopub.execute_input": "2022-12-12T18:18:28.116205Z",
     "iopub.status.busy": "2022-12-12T18:18:28.115816Z",
     "iopub.status.idle": "2022-12-12T18:18:28.126460Z",
     "shell.execute_reply": "2022-12-12T18:18:28.125431Z",
     "shell.execute_reply.started": "2022-12-12T18:18:28.116171Z"
    },
    "slideshow": {
     "slide_type": "slide"
    }
   },
   "outputs": [],
   "source": [
    "class Inception(nn.Block):\n",
    "    # c1 - c4 are the number of output channels for each layer in the path.\n",
    "    def __init__(self, c1, c2, c3, c4, **kwargs):\n",
    "        super(Inception, self).__init__(**kwargs)\n",
    "        # Path 1 is a single 1 x 1 convolutional layer.\n",
    "        self.p1_1 = nn.Conv2D(c1, kernel_size=1, activation='relu')\n",
    "        # Path 2 is a 1 x 1 convolutional layer followed by a 3 x 3 convolutional layer.\n",
    "        self.p2_1 = nn.Conv2D(c2[0], kernel_size=1, activation='relu')\n",
    "        self.p2_2 = nn.Conv2D(c2[1], kernel_size=3, padding=1, activation='relu')\n",
    "        # Path 3 is a 1 x 1 convolutional layer followed by a 5 x 5 convolutional layer.\n",
    "        self.p3_1 = nn.Conv2D(c3[0], kernel_size=1, activation='relu')\n",
    "        self.p3_2 = nn.Conv2D(c3[1], kernel_size=5, padding=2, activation='relu')\n",
    "        # Path 4 is a 3 x 3 maximum pooling layer followed by a 1 x 1 convolutional layer.\n",
    "        self.p4_1 = nn.MaxPool2D(pool_size=3, strides=1, padding=1)\n",
    "        self.p4_2 = nn.Conv2D(c4, kernel_size=1, activation='relu')\n",
    "\n",
    "    def forward(self, x):\n",
    "        p1 = self.p1_1(x)\n",
    "        p2 = self.p2_2(self.p2_1(x))\n",
    "        p3 = self.p3_2(self.p3_1(x))\n",
    "        p4 = self.p4_2(self.p4_1(x))\n",
    "        # Concatenate the outputs on the channel dimension.\n",
    "        return nd.concat(p1, p2, p3, p4, dim=1)"
   ]
  },
  {
   "cell_type": "markdown",
   "metadata": {
    "slideshow": {
     "slide_type": "slide"
    }
   },
   "source": [
    "### Inception Model - Stage 1"
   ]
  },
  {
   "cell_type": "code",
   "execution_count": 3,
   "metadata": {
    "attributes": {
     "classes": [],
     "id": "",
     "n": "2"
    },
    "execution": {
     "iopub.execute_input": "2022-12-12T18:18:31.597656Z",
     "iopub.status.busy": "2022-12-12T18:18:31.597296Z",
     "iopub.status.idle": "2022-12-12T18:18:31.607559Z",
     "shell.execute_reply": "2022-12-12T18:18:31.606499Z",
     "shell.execute_reply.started": "2022-12-12T18:18:31.597626Z"
    }
   },
   "outputs": [],
   "source": [
    "b1 = nn.Sequential()\n",
    "b1.add(nn.Conv2D(64, kernel_size=7, strides=2, padding=3, activation='relu'),\n",
    "       nn.MaxPool2D(pool_size=3, strides=2, padding=1))"
   ]
  },
  {
   "cell_type": "markdown",
   "metadata": {},
   "source": [
    "### Inception Model - Stage 2"
   ]
  },
  {
   "cell_type": "code",
   "execution_count": 4,
   "metadata": {
    "attributes": {
     "classes": [],
     "id": "",
     "n": "3"
    },
    "execution": {
     "iopub.execute_input": "2022-12-12T18:18:33.457627Z",
     "iopub.status.busy": "2022-12-12T18:18:33.457273Z",
     "iopub.status.idle": "2022-12-12T18:18:33.463960Z",
     "shell.execute_reply": "2022-12-12T18:18:33.463015Z",
     "shell.execute_reply.started": "2022-12-12T18:18:33.457598Z"
    }
   },
   "outputs": [],
   "source": [
    "b2 = nn.Sequential()\n",
    "b2.add(nn.Conv2D(64, kernel_size=1),\n",
    "       nn.Conv2D(192, kernel_size=3, padding=1),\n",
    "       nn.MaxPool2D(pool_size=3, strides=2, padding=1))"
   ]
  },
  {
   "cell_type": "markdown",
   "metadata": {
    "slideshow": {
     "slide_type": "slide"
    }
   },
   "source": [
    "### Inception Model - Stage 3"
   ]
  },
  {
   "cell_type": "code",
   "execution_count": 5,
   "metadata": {
    "attributes": {
     "classes": [],
     "id": "",
     "n": "4"
    },
    "execution": {
     "iopub.execute_input": "2022-12-12T18:18:35.062701Z",
     "iopub.status.busy": "2022-12-12T18:18:35.062344Z",
     "iopub.status.idle": "2022-12-12T18:18:35.075173Z",
     "shell.execute_reply": "2022-12-12T18:18:35.073950Z",
     "shell.execute_reply.started": "2022-12-12T18:18:35.062671Z"
    }
   },
   "outputs": [],
   "source": [
    "b3 = nn.Sequential()\n",
    "b3.add(Inception(64, (96, 128), (16, 32), 32),\n",
    "       Inception(128, (128, 192), (32, 96), 64),\n",
    "       nn.MaxPool2D(pool_size=3, strides=2, padding=1))"
   ]
  },
  {
   "cell_type": "markdown",
   "metadata": {},
   "source": [
    "### Inception Model - Stage 4\n",
    "\n",
    "We use a total of 512 channels (128 + 256 + 64 + 64) "
   ]
  },
  {
   "cell_type": "code",
   "execution_count": 6,
   "metadata": {
    "attributes": {
     "classes": [],
     "id": "",
     "n": "5"
    },
    "execution": {
     "iopub.execute_input": "2022-12-12T18:18:36.869542Z",
     "iopub.status.busy": "2022-12-12T18:18:36.866380Z",
     "iopub.status.idle": "2022-12-12T18:18:36.893129Z",
     "shell.execute_reply": "2022-12-12T18:18:36.892067Z",
     "shell.execute_reply.started": "2022-12-12T18:18:36.869493Z"
    }
   },
   "outputs": [],
   "source": [
    "b4 = nn.Sequential()\n",
    "b4.add(Inception(192, (96, 208), (16, 48), 64),\n",
    "       Inception(160, (112, 224), (24, 64), 64),\n",
    "       Inception(128, (128, 256), (24, 64), 64),\n",
    "       Inception(112, (144, 288), (32, 64), 64),\n",
    "       Inception(256, (160, 320), (32, 128), 128),\n",
    "       nn.MaxPool2D(pool_size=3, strides=2, padding=1))"
   ]
  },
  {
   "cell_type": "markdown",
   "metadata": {
    "slideshow": {
     "slide_type": "slide"
    }
   },
   "source": [
    "### Inception Model - Stage 5"
   ]
  },
  {
   "cell_type": "code",
   "execution_count": 7,
   "metadata": {
    "attributes": {
     "classes": [],
     "id": "",
     "n": "6"
    },
    "execution": {
     "iopub.execute_input": "2022-12-12T18:18:38.937605Z",
     "iopub.status.busy": "2022-12-12T18:18:38.936928Z",
     "iopub.status.idle": "2022-12-12T18:18:38.950253Z",
     "shell.execute_reply": "2022-12-12T18:18:38.949190Z",
     "shell.execute_reply.started": "2022-12-12T18:18:38.937569Z"
    }
   },
   "outputs": [],
   "source": [
    "b5 = nn.Sequential()\n",
    "b5.add(Inception(256, (160, 320), (32, 128), 128),\n",
    "       Inception(384, (192, 384), (48, 128), 128),\n",
    "       nn.GlobalAvgPool2D())\n",
    "\n",
    "net = nn.Sequential()\n",
    "net.add(b1, b2, b3, b4, b5, nn.Dense(38))"
   ]
  },
  {
   "cell_type": "markdown",
   "metadata": {
    "slideshow": {
     "slide_type": "slide"
    }
   },
   "source": [
    "Priming the network (at full size)"
   ]
  },
  {
   "cell_type": "code",
   "execution_count": 8,
   "metadata": {
    "attributes": {
     "classes": [],
     "id": "",
     "n": "7"
    },
    "execution": {
     "iopub.execute_input": "2022-12-12T18:18:41.257823Z",
     "iopub.status.busy": "2022-12-12T18:18:41.257467Z",
     "iopub.status.idle": "2022-12-12T18:18:41.397625Z",
     "shell.execute_reply": "2022-12-12T18:18:41.396442Z",
     "shell.execute_reply.started": "2022-12-12T18:18:41.257793Z"
    }
   },
   "outputs": [
    {
     "name": "stdout",
     "output_type": "stream",
     "text": [
      "sequential0 output shape:\t (1, 64, 24, 24)\n",
      "sequential1 output shape:\t (1, 192, 12, 12)\n",
      "sequential2 output shape:\t (1, 480, 6, 6)\n",
      "sequential3 output shape:\t (1, 832, 3, 3)\n",
      "sequential4 output shape:\t (1, 1024, 1, 1)\n",
      "dense0 output shape:\t (1, 38)\n"
     ]
    }
   ],
   "source": [
    "X = nd.random.uniform(shape=(1, 1, 96, 96))\n",
    "net.initialize()\n",
    "for layer in net:\n",
    "    X = layer(X)\n",
    "    print(layer.name, 'output shape:\\t', X.shape)"
   ]
  },
  {
   "cell_type": "code",
   "execution_count": 23,
   "metadata": {
    "execution": {
     "iopub.execute_input": "2022-10-22T10:30:38.509348Z",
     "iopub.status.busy": "2022-10-22T10:30:38.508214Z",
     "iopub.status.idle": "2022-10-22T10:30:38.518722Z",
     "shell.execute_reply": "2022-10-22T10:30:38.517480Z",
     "shell.execute_reply.started": "2022-10-22T10:30:38.509284Z"
    }
   },
   "outputs": [],
   "source": [
    "def load_data_fashion(batch_size, resize=None):\n",
    "    data = gluon.data.vision\n",
    "    trans = [data.transforms.Resize(resize)] if resize else []\n",
    "    trans.append(data.transforms.ToTensor())\n",
    "    trans = data.transforms.Compose(trans)\n",
    "    mnist_train = gluon.data.vision.ImageFolderDataset('/kaggle/input/new-plant-diseases-dataset/train', flag=38).transform_first(trans)\n",
    "    mnist_test = gluon.data.vision.ImageFolderDataset('/kaggle/input/new-plant-diseases-dataset/test', flag=38).transform_first(trans)\n",
    "    return (gluon.data.DataLoader(mnist_train, batch_size, shuffle=True,\n",
    "                                  num_workers=get_dataloader_workers()),\n",
    "            gluon.data.DataLoader(mnist_test, batch_size, shuffle=False,\n",
    "                                  num_workers=get_dataloader_workers()))"
   ]
  },
  {
   "cell_type": "code",
   "execution_count": 19,
   "metadata": {
    "execution": {
     "iopub.execute_input": "2022-10-22T10:26:48.573117Z",
     "iopub.status.busy": "2022-10-22T10:26:48.572762Z",
     "iopub.status.idle": "2022-10-22T10:26:48.585013Z",
     "shell.execute_reply": "2022-10-22T10:26:48.584083Z",
     "shell.execute_reply.started": "2022-10-22T10:26:48.573088Z"
    }
   },
   "outputs": [],
   "source": [
    "def evaluate_accuracy(data_iter, net, ctx):\n",
    "    acc_sum, n = nd.array([0], ctx=ctx), 0\n",
    "    for X, y in data_iter:\n",
    "        # If ctx is the GPU, copy the data to the GPU.\n",
    "        X, y = X.as_in_context(ctx), y.as_in_context(ctx).astype('float32')\n",
    "        acc_sum += (net(X).argmax(axis=1) == y).sum()\n",
    "        n += y.size\n",
    "    return acc_sum.asscalar() / n\n",
    "\n",
    "def train(net, train_iter, test_iter, batch_size, trainer, ctx,\n",
    "              num_epochs):\n",
    "    print('training on', ctx)\n",
    "    loss = gloss.SoftmaxCrossEntropyLoss()\n",
    "    for epoch in range(num_epochs):\n",
    "        train_l_sum, train_acc_sum, n, start = 0.0, 0.0, 0, time.time()\n",
    "        for X, y in train_iter:\n",
    "            X, y = X.as_in_context(ctx), y.as_in_context(ctx)\n",
    "            with autograd.record():\n",
    "                y_hat = net(X)\n",
    "                l = loss(y_hat, y).sum()\n",
    "            l.backward()\n",
    "            trainer.step(batch_size)\n",
    "            y = y.astype('float32')\n",
    "            train_l_sum += l.asscalar()\n",
    "            train_acc_sum += (y_hat.argmax(axis=1) == y).sum().asscalar()\n",
    "            n += y.size\n",
    "        test_acc = evaluate_accuracy(test_iter, net, ctx)\n",
    "        print('epoch %d, loss %.4f, train acc %.3f, test acc %.3f, '\n",
    "              'time %.1f sec'\n",
    "              % (epoch + 1, train_l_sum / n, train_acc_sum / n, test_acc,\n",
    "                 time.time() - start))"
   ]
  },
  {
   "cell_type": "code",
   "execution_count": 1,
   "metadata": {
    "execution": {
     "iopub.execute_input": "2022-12-20T14:52:39.891252Z",
     "iopub.status.busy": "2022-12-20T14:52:39.890822Z",
     "iopub.status.idle": "2022-12-20T14:52:39.917189Z",
     "shell.execute_reply": "2022-12-20T14:52:39.916175Z",
     "shell.execute_reply.started": "2022-12-20T14:52:39.891168Z"
    }
   },
   "outputs": [
    {
     "name": "stdout",
     "output_type": "stream",
     "text": [
      "Epoch 1/69\n",
      "\n",
      "Epoch 00001: val_loss improved from inf to 1.51326, saving model to model.h5\n",
      "23/23 - 40s - loss: 2.1999 - accuracy: 0.3083 - val_loss: 1.5133 - val_accuracy: 0.4822\n",
      "Epoch 2/69\n",
      "\n",
      "Epoch 00002: val_loss improved from 1.51326 to 1.17247, saving model to model.h5\n",
      "23/23 - 36s - loss: 1.2464 - accuracy: 0.5900 - val_loss: 1.1725 - val_accuracy: 0.5770\n",
      "Epoch 3/69\n",
      "\n",
      "Epoch 00003: val_loss improved from 1.17247 to 0.99582, saving model to model.h5\n",
      "23/23 - 35s - loss: 0.9852 - accuracy: 0.6541 - val_loss: 0.9958 - val_accuracy: 0.6396\n",
      "Epoch 4/69\n",
      "\n",
      "Epoch 00004: val_loss improved from 0.99582 to 0.80038, saving model to model.h5\n",
      "23/23 - 37s - loss: 0.4359 - accuracy: 0.8422 - val_loss: 0.2800 - val_accuracy: 0.8676\n",
      "Epoch 5/69\n",
      "\n",
      "Epoch 00005: val_loss improved from 0.80038 to 0.77558, saving model to model.h5\n",
      "23/23 - 34s - loss: 0.3299 - accuracy: 0.8837 - val_loss: 0.3682 - val_accuracy: 0.8962\n"
     ]
    }
   ],
   "source": [
    "lr, num_epochs, batch_size, ctx = 0.1, 5, 128, mx.gpu()\n",
    "net.initialize(force_reinit=True, ctx=ctx, init=init.Xavier())\n",
    "trainer = gluon.Trainer(net.collect_params(), 'sgd', {'learning_rate': lr})\n",
    "train_iter, test_iter = load_data_fashion_mnist(batch_size, resize=96)\n",
    "train(net, train_iter, test_iter, batch_size, trainer, ctx, num_epochs)"
   ]
  }
 ],
 "metadata": {
  "kernelspec": {
   "display_name": "Python 3",
   "language": "python",
   "name": "python3"
  },
  "language_info": {
   "codemirror_mode": {
    "name": "ipython",
    "version": 3
   },
   "file_extension": ".py",
   "mimetype": "text/x-python",
   "name": "python",
   "nbconvert_exporter": "python",
   "pygments_lexer": "ipython3",
   "version": "3.7.1"
  }
 },
 "nbformat": 4,
 "nbformat_minor": 4
}
