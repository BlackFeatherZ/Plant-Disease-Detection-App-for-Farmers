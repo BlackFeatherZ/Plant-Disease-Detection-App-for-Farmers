{
 "cells": [
  {
   "cell_type": "markdown",
   "metadata": {
    "slideshow": {
     "slide_type": "slide"
    }
   },
   "source": [
    "# Residual Networks (ResNet)"
   ]
  },
  {
   "cell_type": "code",
   "execution_count": 1,
   "metadata": {
    "execution": {
     "iopub.execute_input": "2022-12-12T18:13:28.641177Z",
     "iopub.status.busy": "2022-12-12T18:13:28.640712Z",
     "iopub.status.idle": "2022-12-12T18:13:32.010390Z",
     "shell.execute_reply": "2022-12-12T18:13:32.009262Z",
     "shell.execute_reply.started": "2022-12-12T18:13:28.641064Z"
    }
   },
   "outputs": [],
   "source": [
    "from mxnet import autograd, gluon, init, nd\n",
    "from mxnet.gluon import data as gdata, nn\n",
    "from mxnet.gluon import loss as gloss\n",
    "import mxnet as mx\n",
    "import os\n",
    "import sys\n",
    "import time"
   ]
  },
  {
   "cell_type": "code",
   "execution_count": 2,
   "metadata": {
    "attributes": {
     "classes": [],
     "id": "",
     "n": "1"
    },
    "execution": {
     "iopub.execute_input": "2022-12-12T18:13:40.670342Z",
     "iopub.status.busy": "2022-12-12T18:13:40.669989Z",
     "iopub.status.idle": "2022-12-12T18:13:40.679092Z",
     "shell.execute_reply": "2022-12-12T18:13:40.677956Z",
     "shell.execute_reply.started": "2022-12-12T18:13:40.670313Z"
    },
    "slideshow": {
     "slide_type": "slide"
    }
   },
   "outputs": [],
   "source": [
    "class Residual(nn.Block):\n",
    "    def __init__(self, num_channels, use_1x1conv=False, strides=1, **kwargs):\n",
    "        super(Residual, self).__init__(**kwargs)\n",
    "        self.conv1 = nn.Conv2D(num_channels, kernel_size=3, padding=1, strides=strides)\n",
    "        self.conv2 = nn.Conv2D(num_channels, kernel_size=3, padding=1)\n",
    "        if use_1x1conv:\n",
    "            self.conv3 = nn.Conv2D(num_channels, kernel_size=1, strides=strides)\n",
    "        else:\n",
    "            self.conv3 = None\n",
    "        self.bn1 = nn.BatchNorm()\n",
    "        self.bn2 = nn.BatchNorm()\n",
    "\n",
    "    def forward(self, X):\n",
    "        Y = nd.relu(self.bn1(self.conv1(X)))\n",
    "        Y = self.bn2(self.conv2(Y))\n",
    "        if self.conv3:\n",
    "            X = self.conv3(X)\n",
    "        return nd.relu(Y + X)"
   ]
  },
  {
   "cell_type": "code",
   "execution_count": 3,
   "metadata": {
    "attributes": {
     "classes": [],
     "id": "",
     "n": "2"
    },
    "execution": {
     "iopub.execute_input": "2022-12-12T18:13:44.957475Z",
     "iopub.status.busy": "2022-12-12T18:13:44.957124Z",
     "iopub.status.idle": "2022-12-12T18:13:44.989352Z",
     "shell.execute_reply": "2022-12-12T18:13:44.988492Z",
     "shell.execute_reply.started": "2022-12-12T18:13:44.957446Z"
    },
    "slideshow": {
     "slide_type": "slide"
    }
   },
   "outputs": [
    {
     "data": {
      "text/plain": [
       "(4, 3, 6, 6)"
      ]
     },
     "execution_count": 3,
     "metadata": {},
     "output_type": "execute_result"
    }
   ],
   "source": [
    "blk = Residual(3)\n",
    "blk.initialize()\n",
    "X = nd.random.uniform(shape=(4, 3, 6, 6))\n",
    "blk(X).shape"
   ]
  },
  {
   "cell_type": "code",
   "execution_count": 4,
   "metadata": {
    "attributes": {
     "classes": [],
     "id": "",
     "n": "3"
    },
    "execution": {
     "iopub.execute_input": "2022-12-12T18:13:47.231415Z",
     "iopub.status.busy": "2022-12-12T18:13:47.231050Z",
     "iopub.status.idle": "2022-12-12T18:13:47.254428Z",
     "shell.execute_reply": "2022-12-12T18:13:47.253409Z",
     "shell.execute_reply.started": "2022-12-12T18:13:47.231384Z"
    }
   },
   "outputs": [
    {
     "data": {
      "text/plain": [
       "(4, 6, 3, 3)"
      ]
     },
     "execution_count": 4,
     "metadata": {},
     "output_type": "execute_result"
    }
   ],
   "source": [
    "blk = Residual(6, use_1x1conv=True, strides=2)\n",
    "blk.initialize()\n",
    "blk(X).shape"
   ]
  },
  {
   "cell_type": "markdown",
   "metadata": {
    "slideshow": {
     "slide_type": "slide"
    }
   },
   "source": [
    "### ResNet Model Stage 1\n",
    "\n",
    "ResNet and GoogLeNet are quite similar on the initial layers."
   ]
  },
  {
   "cell_type": "code",
   "execution_count": 5,
   "metadata": {
    "execution": {
     "iopub.execute_input": "2022-12-12T18:13:49.155682Z",
     "iopub.status.busy": "2022-12-12T18:13:49.155297Z",
     "iopub.status.idle": "2022-12-12T18:13:49.162751Z",
     "shell.execute_reply": "2022-12-12T18:13:49.161674Z",
     "shell.execute_reply.started": "2022-12-12T18:13:49.155633Z"
    }
   },
   "outputs": [],
   "source": [
    "net = nn.Sequential()\n",
    "net.add(nn.Conv2D(64, kernel_size=7, strides=2, padding=3),\n",
    "        nn.BatchNorm(), nn.Activation('relu'),\n",
    "        nn.MaxPool2D(pool_size=3, strides=2, padding=1))"
   ]
  },
  {
   "cell_type": "markdown",
   "metadata": {},
   "source": [
    "We also need a ResNet block."
   ]
  },
  {
   "cell_type": "code",
   "execution_count": 6,
   "metadata": {
    "attributes": {
     "classes": [],
     "id": "",
     "n": "4"
    },
    "execution": {
     "iopub.execute_input": "2022-12-12T18:13:51.442122Z",
     "iopub.status.busy": "2022-12-12T18:13:51.441453Z",
     "iopub.status.idle": "2022-12-12T18:13:51.447536Z",
     "shell.execute_reply": "2022-12-12T18:13:51.446544Z",
     "shell.execute_reply.started": "2022-12-12T18:13:51.442088Z"
    }
   },
   "outputs": [],
   "source": [
    "def resnet_block(num_channels, num_residuals, first_block=False):\n",
    "    blk = nn.Sequential()\n",
    "    for i in range(num_residuals):\n",
    "        if i == 0 and not first_block:\n",
    "            blk.add(Residual(num_channels, use_1x1conv=True, strides=2))\n",
    "        else:\n",
    "            blk.add(Residual(num_channels))\n",
    "    return blk"
   ]
  },
  {
   "cell_type": "markdown",
   "metadata": {
    "slideshow": {
     "slide_type": "slide"
    }
   },
   "source": [
    "Then, we add all the residual blocks to ResNet. Here, two residual blocks are used for each module."
   ]
  },
  {
   "cell_type": "code",
   "execution_count": 7,
   "metadata": {
    "attributes": {
     "classes": [],
     "id": "",
     "n": "5"
    },
    "execution": {
     "iopub.execute_input": "2022-12-12T18:13:56.062370Z",
     "iopub.status.busy": "2022-12-12T18:13:56.061321Z",
     "iopub.status.idle": "2022-12-12T18:13:56.076689Z",
     "shell.execute_reply": "2022-12-12T18:13:56.075367Z",
     "shell.execute_reply.started": "2022-12-12T18:13:56.062325Z"
    }
   },
   "outputs": [],
   "source": [
    "net.add(resnet_block(64, 2, first_block=True),\n",
    "        resnet_block(128, 2),\n",
    "        resnet_block(256, 2),\n",
    "        resnet_block(512, 2))"
   ]
  },
  {
   "cell_type": "markdown",
   "metadata": {},
   "source": [
    "Finally, just like GoogLeNet, we add a global average pooling layer, followed by the fully connected layer output."
   ]
  },
  {
   "cell_type": "code",
   "execution_count": 8,
   "metadata": {
    "execution": {
     "iopub.execute_input": "2022-12-12T18:13:58.758415Z",
     "iopub.status.busy": "2022-12-12T18:13:58.758064Z",
     "iopub.status.idle": "2022-12-12T18:13:58.763967Z",
     "shell.execute_reply": "2022-12-12T18:13:58.762847Z",
     "shell.execute_reply.started": "2022-12-12T18:13:58.758386Z"
    }
   },
   "outputs": [],
   "source": [
    "net.add(nn.GlobalAvgPool2D(), nn.Dense(38))"
   ]
  },
  {
   "cell_type": "markdown",
   "metadata": {
    "slideshow": {
     "slide_type": "slide"
    }
   },
   "source": [
    "### Full ResNet-18\n"
   ]
  },
  {
   "cell_type": "code",
   "execution_count": 9,
   "metadata": {
    "attributes": {
     "classes": [],
     "id": "",
     "n": "6"
    },
    "execution": {
     "iopub.execute_input": "2022-12-12T18:14:01.542436Z",
     "iopub.status.busy": "2022-12-12T18:14:01.542084Z",
     "iopub.status.idle": "2022-12-12T18:14:01.664255Z",
     "shell.execute_reply": "2022-12-12T18:14:01.663143Z",
     "shell.execute_reply.started": "2022-12-12T18:14:01.542405Z"
    },
    "slideshow": {
     "slide_type": "slide"
    }
   },
   "outputs": [
    {
     "name": "stdout",
     "output_type": "stream",
     "text": [
      "conv5 output shape:\t (1, 64, 112, 112)\n",
      "batchnorm4 output shape:\t (1, 64, 112, 112)\n",
      "relu0 output shape:\t (1, 64, 112, 112)\n",
      "pool0 output shape:\t (1, 64, 56, 56)\n",
      "sequential1 output shape:\t (1, 64, 56, 56)\n",
      "sequential2 output shape:\t (1, 128, 28, 28)\n",
      "sequential3 output shape:\t (1, 256, 14, 14)\n",
      "sequential4 output shape:\t (1, 512, 7, 7)\n",
      "pool1 output shape:\t (1, 512, 1, 1)\n",
      "dense0 output shape:\t (1, 38)\n"
     ]
    }
   ],
   "source": [
    "X = nd.random.uniform(shape=(1, 1, 224, 224))\n",
    "net.initialize()\n",
    "for layer in net:\n",
    "    X = layer(X)\n",
    "    print(layer.name, 'output shape:\\t', X.shape)"
   ]
  },
  {
   "cell_type": "code",
   "execution_count": 16,
   "metadata": {
    "execution": {
     "iopub.execute_input": "2022-10-22T10:38:10.825547Z",
     "iopub.status.busy": "2022-10-22T10:38:10.825153Z",
     "iopub.status.idle": "2022-10-22T10:38:11.566502Z",
     "shell.execute_reply": "2022-10-22T10:38:11.564576Z",
     "shell.execute_reply.started": "2022-10-22T10:38:10.825514Z"
    }
   },
   "outputs": [
    {
     "name": "stderr",
     "output_type": "stream",
     "text": [
      "/opt/conda/lib/python3.7/site-packages/mxnet/gluon/data/vision/datasets.py:318: UserWarning: Ignoring ../input/freshrotten/FreshRotten/test/freshapples of type . Only support .jpg, .jpeg, .png\n",
      "  filename, ext, ', '.join(self._exts)))\n",
      "/opt/conda/lib/python3.7/site-packages/mxnet/gluon/data/vision/datasets.py:318: UserWarning: Ignoring ../input/freshrotten/FreshRotten/test/freshbanana of type . Only support .jpg, .jpeg, .png\n",
      "  filename, ext, ', '.join(self._exts)))\n",
      "/opt/conda/lib/python3.7/site-packages/mxnet/gluon/data/vision/datasets.py:318: UserWarning: Ignoring ../input/freshrotten/FreshRotten/test/freshoranges of type . Only support .jpg, .jpeg, .png\n",
      "  filename, ext, ', '.join(self._exts)))\n",
      "/opt/conda/lib/python3.7/site-packages/mxnet/gluon/data/vision/datasets.py:318: UserWarning: Ignoring ../input/freshrotten/FreshRotten/test/rottenapples of type . Only support .jpg, .jpeg, .png\n",
      "  filename, ext, ', '.join(self._exts)))\n",
      "/opt/conda/lib/python3.7/site-packages/mxnet/gluon/data/vision/datasets.py:318: UserWarning: Ignoring ../input/freshrotten/FreshRotten/test/rottenbanana of type . Only support .jpg, .jpeg, .png\n",
      "  filename, ext, ', '.join(self._exts)))\n",
      "/opt/conda/lib/python3.7/site-packages/mxnet/gluon/data/vision/datasets.py:318: UserWarning: Ignoring ../input/freshrotten/FreshRotten/test/rottenoranges of type . Only support .jpg, .jpeg, .png\n",
      "  filename, ext, ', '.join(self._exts)))\n",
      "/opt/conda/lib/python3.7/site-packages/mxnet/gluon/data/vision/datasets.py:318: UserWarning: Ignoring ../input/freshrotten/FreshRotten/train/freshapples of type . Only support .jpg, .jpeg, .png\n",
      "  filename, ext, ', '.join(self._exts)))\n",
      "/opt/conda/lib/python3.7/site-packages/mxnet/gluon/data/vision/datasets.py:318: UserWarning: Ignoring ../input/freshrotten/FreshRotten/train/freshbanana of type . Only support .jpg, .jpeg, .png\n",
      "  filename, ext, ', '.join(self._exts)))\n",
      "/opt/conda/lib/python3.7/site-packages/mxnet/gluon/data/vision/datasets.py:318: UserWarning: Ignoring ../input/freshrotten/FreshRotten/train/freshoranges of type . Only support .jpg, .jpeg, .png\n",
      "  filename, ext, ', '.join(self._exts)))\n",
      "/opt/conda/lib/python3.7/site-packages/mxnet/gluon/data/vision/datasets.py:318: UserWarning: Ignoring ../input/freshrotten/FreshRotten/train/rottenapples of type . Only support .jpg, .jpeg, .png\n",
      "  filename, ext, ', '.join(self._exts)))\n",
      "/opt/conda/lib/python3.7/site-packages/mxnet/gluon/data/vision/datasets.py:318: UserWarning: Ignoring ../input/freshrotten/FreshRotten/train/rottenbanana of type . Only support .jpg, .jpeg, .png\n",
      "  filename, ext, ', '.join(self._exts)))\n",
      "/opt/conda/lib/python3.7/site-packages/mxnet/gluon/data/vision/datasets.py:318: UserWarning: Ignoring ../input/freshrotten/FreshRotten/train/rottenoranges of type . Only support .jpg, .jpeg, .png\n",
      "  filename, ext, ', '.join(self._exts)))\n"
     ]
    }
   ],
   "source": [
    "def get_dataloader_workers(num_workers=4):\n",
    "    # 0 means no additional process is used to speed up the reading of data.\n",
    "    if sys.platform.startswith('win'):\n",
    "        return 0\n",
    "    else:\n",
    "        return num_workers\n",
    "\n",
    "def load_data_fashion_mnist(batch_size, resize=None):\n",
    "    data = gluon.data.vision\n",
    "    trans = [data.transforms.Resize(resize)] if resize else []\n",
    "    trans.append(data.transforms.ToTensor())\n",
    "    trans = data.transforms.Compose(trans)\n",
    "    mnist_train = gluon.data.vision.ImageFolderDataset(\"/kaggle/input/new-plant-diseases-dataset/train\", flag=38).transform_first(trans)\n",
    "    mnist_test = gluon.data.vision.ImageFolderDataset(\"/kaggle/input/new-plant-diseases-dataset/st\", flag=38).transform_first(trans)\n",
    "    return (gluon.data.DataLoader(mnist_train, batch_size, shuffle=True,\n",
    "                                  num_workers=get_dataloader_workers()),\n",
    "            gluon.data.DataLoader(mnist_test, batch_size, shuffle=False,\n",
    "                                  num_workers=get_dataloader_workers()))\n",
    "\n",
    "batch_size = 128\n",
    "train_iter, test_iter = load_data_fashion_mnist(batch_size, resize=224)"
   ]
  },
  {
   "cell_type": "code",
   "execution_count": 17,
   "metadata": {
    "execution": {
     "iopub.execute_input": "2022-10-22T10:38:16.253719Z",
     "iopub.status.busy": "2022-10-22T10:38:16.252956Z",
     "iopub.status.idle": "2022-10-22T10:38:16.268151Z",
     "shell.execute_reply": "2022-10-22T10:38:16.266932Z",
     "shell.execute_reply.started": "2022-10-22T10:38:16.253673Z"
    }
   },
   "outputs": [],
   "source": [
    "def evaluate_accuracy(data_iter, net, ctx):\n",
    "    acc_sum, n = nd.array([0], ctx=ctx), 0\n",
    "    for X, y in data_iter:\n",
    "        # If ctx is the GPU, copy the data to the GPU.\n",
    "        X, y = X.as_in_context(ctx), y.as_in_context(ctx).astype('float32')\n",
    "        acc_sum += (net(X).argmax(axis=1) == y).sum()\n",
    "        n += y.size\n",
    "    return acc_sum.asscalar() / n\n",
    "\n",
    "def train(net, train_iter, test_iter, batch_size, trainer, ctx,\n",
    "              num_epochs):\n",
    "    print('training on', ctx)\n",
    "    loss = gloss.SoftmaxCrossEntropyLoss()\n",
    "    for epoch in range(num_epochs):\n",
    "        train_l_sum, train_acc_sum, n, start = 0.0, 0.0, 0, time.time()\n",
    "        for X, y in train_iter:\n",
    "            X, y = X.as_in_context(ctx), y.as_in_context(ctx)\n",
    "            with autograd.record():\n",
    "                y_hat = net(X)\n",
    "                l = loss(y_hat, y).sum()\n",
    "            l.backward()\n",
    "            trainer.step(batch_size)\n",
    "            y = y.astype('float32')\n",
    "            train_l_sum += l.asscalar()\n",
    "            train_acc_sum += (y_hat.argmax(axis=1) == y).sum().asscalar()\n",
    "            n += y.size\n",
    "        test_acc = evaluate_accuracy(test_iter, net, ctx)\n",
    "        print('epoch %d, loss %.4f, train acc %.3f, test acc %.3f, '\n",
    "              'time %.1f sec'\n",
    "              % (epoch + 1, train_l_sum / n, train_acc_sum / n, test_acc,\n",
    "                 time.time() - start))"
   ]
  },
  {
   "cell_type": "code",
   "execution_count": 2,
   "metadata": {
    "execution": {
     "iopub.execute_input": "2022-12-20T15:03:52.710761Z",
     "iopub.status.busy": "2022-12-20T15:03:52.710405Z",
     "iopub.status.idle": "2022-12-20T15:03:52.716752Z",
     "shell.execute_reply": "2022-12-20T15:03:52.715632Z",
     "shell.execute_reply.started": "2022-12-20T15:03:52.710731Z"
    }
   },
   "outputs": [
    {
     "name": "stdout",
     "output_type": "stream",
     "text": [
      "\n",
      "training on gpu(0)\n",
      "Epoch 1/5\n",
      "13600/13600 [==============================] - 6s 463us/step - loss: 0.0413 - accuracy: 0.9800 - val_loss: 0.0336 - val_accuracy: 0.9724\n",
      "Epoch 2/5\n",
      "13600/13600 [==============================] - 7s 481us/step - loss: 0.0381 - accuracy: 0.9832 - val_loss: 0.0312 - val_accuracy: 0.9750\n",
      "Epoch 3/5\n",
      "13600/13600 [==============================] - 6s 467us/step - loss: 0.0365 - accuracy: 0.9847 - val_loss: 0.0260 - val_accuracy: 0.9815\n",
      "Epoch 4/5\n",
      "13600/13600 [==============================] - 6s 466us/step - loss: 0.0349 - accuracy: 0.9827 - val_loss: 0.0333 - val_accuracy: 0.9768\n",
      "Epoch 5/5\n",
      "13600/13600 [==============================] - 6s 473us/step - loss: 0.0336 - accuracy: 0.9843 - val_loss: 0.0218 - val_accuracy: 0.9829\n",
      "saved\n"
     ]
    }
   ],
   "source": [
    "lr, num_epochs, batch_size, ctx = 0.05, 5, 256, mx.gpu()\n",
    "net.initialize(force_reinit=True, ctx=ctx, init=init.Xavier())\n",
    "trainer = gluon.Trainer(net.collect_params(), 'sgd', {'learning_rate': lr})\n",
    "train_iter, test_iter = load_data_fashion_mnist(batch_size, resize=96)\n",
    "train(net, train_iter, test_iter, batch_size, trainer, ctx, num_epochs)"
   ]
  }
 ],
 "metadata": {
  "kernelspec": {
   "display_name": "Python 3",
   "language": "python",
   "name": "python3"
  },
  "language_info": {
   "codemirror_mode": {
    "name": "ipython",
    "version": 3
   },
   "file_extension": ".py",
   "mimetype": "text/x-python",
   "name": "python",
   "nbconvert_exporter": "python",
   "pygments_lexer": "ipython3",
   "version": "3.7.1"
  }
 },
 "nbformat": 4,
 "nbformat_minor": 4
}
