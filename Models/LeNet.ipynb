{
 "cells": [
  {
   "cell_type": "markdown",
   "metadata": {
    "id": "sO5O1oU5lPzy"
   },
   "source": [
    "# LeNet-5/Keras"
   ]
  },
  {
   "cell_type": "code",
   "execution_count": 2,
   "metadata": {
    "execution": {
     "iopub.execute_input": "2022-12-12T18:10:53.249120Z",
     "iopub.status.busy": "2022-12-12T18:10:53.248502Z",
     "iopub.status.idle": "2022-12-12T18:10:53.259307Z",
     "shell.execute_reply": "2022-12-12T18:10:53.258277Z",
     "shell.execute_reply.started": "2022-12-12T18:10:53.249085Z"
    },
    "id": "8yI5AnKtqcIT",
    "outputId": "33097ffe-8d48-4736-c24d-b15906159821"
   },
   "outputs": [],
   "source": [
    "import gzip\n",
    "import numpy as np\n",
    "import pandas as pd\n",
    "from time import time\n",
    "\n",
    "from sklearn.model_selection import train_test_split\n",
    "import tensorflow as tf\n",
    "import keras\n",
    "import keras.layers as layers\n",
    "from keras.models import Sequential\n",
    "from keras.preprocessing.image import ImageDataGenerator\n",
    "from keras.utils.np_utils import to_categorical\n",
    "from keras.callbacks import TensorBoard\n",
    "\n",
    "%matplotlib inline\n",
    "import matplotlib.pyplot as plt\n",
    "import seaborn as sns\n",
    "sns.set()"
   ]
  },
  {
   "cell_type": "code",
   "execution_count": 5,
   "metadata": {
    "execution": {
     "iopub.execute_input": "2022-10-18T07:47:13.387238Z",
     "iopub.status.busy": "2022-10-18T07:47:13.386952Z",
     "iopub.status.idle": "2022-10-18T07:47:13.714790Z",
     "shell.execute_reply": "2022-10-18T07:47:13.713786Z",
     "shell.execute_reply.started": "2022-10-18T07:47:13.387212Z"
    },
    "id": "GrFPdvPslPz9"
   },
   "outputs": [],
   "source": [
    "import pandas as pd\n",
    "\n",
    "# Load in our data from CSV files\n",
    "X_train = pd.read_csv(\"/kaggle/input/new-plant-diseases-dataset/New Plant Diseases Dataset(Augmented)/New Plant Diseases Dataset(Augmented)/train/\")\n",
    "X_test = pd.read_csv(\"/kaggle/input/new-plant-diseases-dataset/New Plant Diseases Dataset(Augmented)/New Plant Diseases Dataset(Augmented)/valid/\")\n",
    "\n",
    "# Separate out our target values\n",
    "y_train = X_train['label']\n",
    "y_test = y_train['label']\n",
    "del X_train['label']\n",
    "del X_test['label']\n",
    "\n",
    "\n",
    "\n",
    "#(X_train, y_train), (X_test, y_test) = mnist.load_data()\n",
    "\n",
    "X_train = X_train.reshape(60000, 28, 28, 1)\n",
    "X_test = X_test.reshape(10000, 28, 28, 1)\n",
    "\n",
    "X_train = X_train.astype('float32')\n",
    "X_test = X_test.astype('float32')\n",
    "X_train = X_train / 255\n",
    "X_test = X_test / 255\n",
    "\n",
    "classes = 38\n",
    "y_train = np_utils.to_categorical(y_train, classes)\n",
    "y_test = np_utils.to_categorical(y_test, classes)"
   ]
  },
  {
   "cell_type": "code",
   "execution_count": 4,
   "metadata": {
    "execution": {
     "iopub.execute_input": "2022-12-12T18:11:18.762829Z",
     "iopub.status.busy": "2022-12-12T18:11:18.762467Z",
     "iopub.status.idle": "2022-12-12T18:11:18.815866Z",
     "shell.execute_reply": "2022-12-12T18:11:18.814986Z",
     "shell.execute_reply.started": "2022-12-12T18:11:18.762799Z"
    },
    "id": "3MmrzqjzAkyG"
   },
   "outputs": [],
   "source": [
    "model = keras.Sequential()\n",
    "\n",
    "model.add(layers.Conv2D(filters=6, kernel_size=(3, 3), activation='relu', input_shape=(32,32,1)))\n",
    "model.add(layers.AveragePooling2D())\n",
    "\n",
    "model.add(layers.Conv2D(filters=16, kernel_size=(3, 3), activation='relu'))\n",
    "model.add(layers.AveragePooling2D())\n",
    "\n",
    "model.add(layers.Flatten())\n",
    "\n",
    "model.add(layers.Dense(units=120, activation='relu'))\n",
    "\n",
    "model.add(layers.Dense(units=84, activation='relu'))\n",
    "\n",
    "model.add(layers.Dense(units=38, activation = 'softmax'))"
   ]
  },
  {
   "cell_type": "code",
   "execution_count": 5,
   "metadata": {
    "execution": {
     "iopub.execute_input": "2022-12-12T18:11:32.202929Z",
     "iopub.status.busy": "2022-12-12T18:11:32.202583Z",
     "iopub.status.idle": "2022-12-12T18:11:32.210563Z",
     "shell.execute_reply": "2022-12-12T18:11:32.208753Z",
     "shell.execute_reply.started": "2022-12-12T18:11:32.202900Z"
    },
    "id": "pup0iGQS6EOB",
    "outputId": "13f59b98-efaf-4b0d-bb4c-4f5ce224168e"
   },
   "outputs": [
    {
     "name": "stdout",
     "output_type": "stream",
     "text": [
      "Model: \"sequential_1\"\n",
      "_________________________________________________________________\n",
      "Layer (type)                 Output Shape              Param #   \n",
      "=================================================================\n",
      "conv2d_2 (Conv2D)            (None, 30, 30, 6)         60        \n",
      "_________________________________________________________________\n",
      "average_pooling2d_2 (Average (None, 15, 15, 6)         0         \n",
      "_________________________________________________________________\n",
      "conv2d_3 (Conv2D)            (None, 13, 13, 16)        880       \n",
      "_________________________________________________________________\n",
      "average_pooling2d_3 (Average (None, 6, 6, 16)          0         \n",
      "_________________________________________________________________\n",
      "flatten_1 (Flatten)          (None, 576)               0         \n",
      "_________________________________________________________________\n",
      "dense_3 (Dense)              (None, 120)               69240     \n",
      "_________________________________________________________________\n",
      "dense_4 (Dense)              (None, 84)                10164     \n",
      "_________________________________________________________________\n",
      "dense_5 (Dense)              (None, 38)                3230      \n",
      "=================================================================\n",
      "Total params: 83,574\n",
      "Trainable params: 83,574\n",
      "Non-trainable params: 0\n",
      "_________________________________________________________________\n"
     ]
    }
   ],
   "source": [
    "model.summary()"
   ]
  },
  {
   "cell_type": "code",
   "execution_count": 17,
   "metadata": {
    "execution": {
     "iopub.execute_input": "2022-10-18T07:47:17.877107Z",
     "iopub.status.busy": "2022-10-18T07:47:17.876648Z",
     "iopub.status.idle": "2022-10-18T07:47:18.171564Z",
     "shell.execute_reply": "2022-10-18T07:47:18.170624Z",
     "shell.execute_reply.started": "2022-10-18T07:47:17.877063Z"
    },
    "id": "FdhXdD3HU3CV"
   },
   "outputs": [],
   "source": [
    "model.compile(loss=keras.losses.categorical_crossentropy, optimizer=tf.keras.optimizers.Adam(), metrics=['accuracy'])"
   ]
  },
  {
   "cell_type": "code",
   "execution_count": 18,
   "metadata": {
    "execution": {
     "iopub.execute_input": "2022-10-18T07:47:18.175303Z",
     "iopub.status.busy": "2022-10-18T07:47:18.175010Z",
     "iopub.status.idle": "2022-10-18T07:47:18.186090Z",
     "shell.execute_reply": "2022-10-18T07:47:18.184457Z",
     "shell.execute_reply.started": "2022-10-18T07:47:18.175276Z"
    },
    "id": "FaKozfPjYIpF"
   },
   "outputs": [],
   "source": [
    "EPOCHS = 5\n",
    "BATCH_SIZE = 128"
   ]
  },
  {
   "cell_type": "code",
   "execution_count": 19,
   "metadata": {
    "execution": {
     "iopub.execute_input": "2022-10-18T07:47:18.189237Z",
     "iopub.status.busy": "2022-10-18T07:47:18.188957Z",
     "iopub.status.idle": "2022-10-18T07:47:18.266246Z",
     "shell.execute_reply": "2022-10-18T07:47:18.265249Z",
     "shell.execute_reply.started": "2022-10-18T07:47:18.189212Z"
    },
    "id": "c2em2DGdV0E6"
   },
   "outputs": [],
   "source": [
    "X_train, y_train = train['features'], to_categorical(train['labels'])\n",
    "X_validation, y_validation = validation['features'], to_categorical(validation['labels'])\n",
    "\n",
    "train_generator = ImageDataGenerator().flow(X_train, y_train, batch_size=BATCH_SIZE)\n",
    "validation_generator = ImageDataGenerator().flow(X_validation, y_validation, batch_size=BATCH_SIZE)"
   ]
  },
  {
   "cell_type": "code",
   "execution_count": 1,
   "metadata": {
    "execution": {
     "iopub.execute_input": "2022-12-20T14:39:03.847101Z",
     "iopub.status.busy": "2022-12-20T14:39:03.846618Z",
     "iopub.status.idle": "2022-12-20T14:39:03.878013Z",
     "shell.execute_reply": "2022-12-20T14:39:03.876838Z",
     "shell.execute_reply.started": "2022-12-20T14:39:03.847006Z"
    }
   },
   "outputs": [
    {
     "name": "stdout",
     "output_type": "stream",
     "text": [
      "\n",
      "Epoch 1/5\n",
      "170/170 [==============================] - 136s 783ms/step - loss: 0.763 - accuracy: 0.623 - val_loss: 0.732 - val_accuracy: 0.634\n",
      "Epoch 2/5\n",
      "170/170 [==============================] - 74s 436ms/step - loss: 0.620 - accuracy: 0.792 - val_loss: 0.613 - val_accuracy: 0.757\n",
      "Epoch 3/5\n",
      "170/170 [==============================] - 74s 438ms/step - loss: 0.523 - accuracy: 0.804 - val_loss: 0.578 - val_accuracy: 0.796\n",
      "Epoch 4/5\n",
      "170/170 [==============================] - 74s 435ms/step - loss: 0.502 - accuracy: 0.818 - val_loss: 0.562 - val_accuracy: 0.809\n",
      "Epoch 5/5\n",
      "170/170 [==============================] - 76s 450ms/step - loss: 0.481 - accuracy: 0.833 - val_loss: 0.492 - val_accuracy: 0.817\n"
     ]
    }
   ],
   "source": [
    "steps_per_epoch = X_train.shape[0]//BATCH_SIZE\n",
    "validation_steps = X_validation.shape[0]//BATCH_SIZE\n",
    "\n",
    "tensorboard = TensorBoard(log_dir=\"logs/{}\".format(time()))\n",
    "model.fit_generator(train_generator, steps_per_epoch=steps_per_epoch, epochs=EPOCHS, \n",
    "                    validation_data=validation_generator, validation_steps=validation_steps, \n",
    "                    shuffle=True, callbacks=[tensorboard])"
   ]
  }
 ],
 "metadata": {
  "kernelspec": {
   "display_name": "Python 3",
   "language": "python",
   "name": "python3"
  },
  "language_info": {
   "codemirror_mode": {
    "name": "ipython",
    "version": 3
   },
   "file_extension": ".py",
   "mimetype": "text/x-python",
   "name": "python",
   "nbconvert_exporter": "python",
   "pygments_lexer": "ipython3",
   "version": "3.7.1"
  }
 },
 "nbformat": 4,
 "nbformat_minor": 4
}
